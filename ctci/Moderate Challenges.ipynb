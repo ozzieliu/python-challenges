{
 "cells": [
  {
   "cell_type": "markdown",
   "metadata": {},
   "source": [
    "## 17.1 \n",
    "**Write a function to swap a number in place (that is, without temporary variables).**"
   ]
  },
  {
   "cell_type": "markdown",
   "metadata": {},
   "source": [
    "Well, unless I'm completely mistaken of what this problem is asking, it's actually pretty trivial in Python to swap numbers:"
   ]
  },
  {
   "cell_type": "code",
   "execution_count": 3,
   "metadata": {
    "collapsed": true
   },
   "outputs": [],
   "source": [
    "def swap(a, b):\n",
    "    b, a = a, b\n",
    "    return a, b\n",
    "\n",
    "print swap(4,10)"
   ]
  },
  {
   "cell_type": "markdown",
   "metadata": {},
   "source": [
    "## 17.2\n",
    "\n",
    "**Design an algorithm to check if someone won in tic-tac-toe**"
   ]
  },
  {
   "cell_type": "markdown",
   "metadata": {},
   "source": [
    "In this problem, I assume that the tic-tac-toe grid is a 3x3 list of lists, and the markers are `X`s and `O`s.  \n",
    "Then using list comprehensions, I can find the 8 different line combinations and check if XXX or OOO are in them.\n",
    "\n",
    "Possible alternative is to check if the markers are the same with == instead of looking up XXX and OOO.\n"
   ]
  },
  {
   "cell_type": "code",
   "execution_count": 53,
   "metadata": {
    "collapsed": false
   },
   "outputs": [
    {
     "name": "stdout",
     "output_type": "stream",
     "text": [
      "False\n"
     ]
    }
   ],
   "source": [
    "grid = [['X', 'O', 'X'],\n",
    "        ['O', 'X', 'O'],\n",
    "        ['O', 'X', 'O']]\n",
    "\n",
    "def tic_tac_toe_win(grid):\n",
    "    ## Check across for wins\n",
    "    across = [''.join(row) for row in grid]\n",
    "    if 'XXX' in across or 'OOO' in across:\n",
    "        return True\n",
    "    \n",
    "    ## Check down\n",
    "    down = [''.join([r[c] for r in grid]) for c in range(3)]\n",
    "    if 'XXX' in down or 'OOO' in down:\n",
    "        return True\n",
    "    \n",
    "    ## Check diagonals\n",
    "    diagonal = [''.join([grid[p][p] for p in range(3)]),\n",
    "                ''.join([grid[p][len(grid)-p-1] for p in range(3)])]\n",
    "    if 'XXX' in diagonal or 'OOO' in diagonal:\n",
    "        return True\n",
    "    \n",
    "    return False\n",
    "    \n",
    "print tic_tac_toe_win(grid)"
   ]
  },
  {
   "cell_type": "markdown",
   "metadata": {},
   "source": [
    "# 17.3\n",
    "\n",
    "**Write an algorithm to figure out the number of trailing zeros in n factorial**\n",
    "\n",
    "Well, intuitively, what numbers generate a 0 in their product?\n",
    "- 5 * even number\n",
    "- 10\n",
    "- 5^k * 2^k (where k = positive int, generates k zeroes)...\n",
    "\n",
    "This can be simplified by checking for every matching pairs of 2s and 5s in the factors of each multiplier. Since there's going to be plenty of even numbers, I just check for the number of 5s. By taking a log_5 of n, I can get the largest value of 5^k, then simply do integer division of each 2^k and sum those results up"
   ]
  },
  {
   "cell_type": "code",
   "execution_count": 52,
   "metadata": {
    "collapsed": false
   },
   "outputs": [
    {
     "data": {
      "text/plain": [
       "124"
      ]
     },
     "execution_count": 52,
     "metadata": {},
     "output_type": "execute_result"
    }
   ],
   "source": [
    "## 20! = product[1,2,3,4,5,6,7,8,9,10,11...20]\n",
    "import math\n",
    "\n",
    "def trailing_zeroes(n):\n",
    "    multiplers = range(1, n+1)\n",
    "    k = int(math.log(n, 5))    \n",
    "    return sum([n/(5**x) for x in range(1, k+1)])\n",
    "    \n",
    "trailing_zeroes(500)"
   ]
  },
  {
   "cell_type": "markdown",
   "metadata": {},
   "source": [
    "## 17.4\n",
    "\n",
    "Write a method which finds the maximum of two numbers without using if-else or any comparison operators"
   ]
  },
  {
   "cell_type": "code",
   "execution_count": 58,
   "metadata": {
    "collapsed": false
   },
   "outputs": [
    {
     "data": {
      "text/plain": [
       "45"
      ]
     },
     "execution_count": 58,
     "metadata": {},
     "output_type": "execute_result"
    }
   ],
   "source": [
    "def maximum_of_two(x, y):\n",
    "    return max(x, y)\n",
    "\n",
    "maximum_of_two(45, 12)"
   ]
  },
  {
   "cell_type": "markdown",
   "metadata": {},
   "source": [
    "## 17.5 \n",
    "\n",
    "Mastermind:\n",
    "\n",
    "Computer has 4 slots each containing a ball that's red, green, blue, or yellow. Player guesses the solution and get response with number of hits and pseudo-hits."
   ]
  },
  {
   "cell_type": "code",
   "execution_count": 90,
   "metadata": {
    "collapsed": false
   },
   "outputs": [
    {
     "name": "stdout",
     "output_type": "stream",
     "text": [
      "Your guess rggy\n",
      "Hits: 3 \tPseudo-hits: 0\n"
     ]
    }
   ],
   "source": [
    "def mastermind(guess, answer):\n",
    "    ## Matching the exact positions for hits\n",
    "    match = [i for i, j in zip(guess, answer) if i == j]\n",
    "    hits = len(match)\n",
    "\n",
    "    if len(match) == 4:\n",
    "        print 'you win!'\n",
    "        return\n",
    "\n",
    "    ## Remove any hits and check remaining for number of pseudo-hits\n",
    "    unguessed = [x for x in answer if x not in match]\n",
    "    other_guesses = [x for x in guess if x not in match]\n",
    "\n",
    "    pseudo = len(set(unguessed).intersection(set(other_guesses)))\n",
    "\n",
    "#     print answer\n",
    "    print 'Your guess:', guess\n",
    "    print 'Hits:', hits, '\\tPseudo-hits:', pseudo\n",
    "\n",
    "mastermind(guess = 'rggy', answer = 'rbgy')"
   ]
  },
  {
   "cell_type": "markdown",
   "metadata": {},
   "source": [
    "## 17.6\n",
    "\n",
    "Given an array of integers, write a method to find the indicies m and n such that if you sorted elements m through n, the entire array would be sorted. Minimize n-m (that is, find the smallest such sequence)\n",
    "\n",
    "Input: [1, 2, 4, 7, 10, 7, 12, 6, 7, 16, 18, 19]  \n",
    "Output: (3, 9)"
   ]
  },
  {
   "cell_type": "markdown",
   "metadata": {},
   "source": [
    "Iterate to find first number that is larger than the smallest number to its right. This is **m**  "
   ]
  },
  {
   "cell_type": "code",
   "execution_count": 141,
   "metadata": {
    "collapsed": false
   },
   "outputs": [
    {
     "name": "stdout",
     "output_type": "stream",
     "text": [
      "[] 1\n",
      "[1] 2\n",
      "[1, 2] 4\n",
      "[1, 2, 4] 7\n",
      "[1, 2, 4, 7] 10\n",
      "[1, 2, 4, 7, 10] 7\n",
      "[1, 2, 4, 7, 10, 7] 12\n",
      "[1, 2, 4, 7, 10, 7, 12] 6\n",
      "[1, 2, 4, 7, 10, 7, 12, 6] 7\n",
      "[1, 2, 4, 7, 10, 7, 12, 6, 7] 16\n",
      "[1, 2, 4, 7, 10, 7, 12, 6, 7, 16] 18\n",
      "[1, 2, 4, 7, 10, 7, 12, 6, 7, 16, 18] 19\n",
      "m = 3\n",
      "n = 9\n"
     ]
    },
    {
     "data": {
      "text/plain": [
       "(3, 9)"
      ]
     },
     "execution_count": 141,
     "metadata": {},
     "output_type": "execute_result"
    }
   ],
   "source": [
    "def sublist_sort(x):\n",
    "    for index, num in enumerate(x):\n",
    "        if num > min(x[index:]):\n",
    "            m = index\n",
    "            break\n",
    "\n",
    "    for index, num in enumerate(x):\n",
    "        print x[:index], num\n",
    "#         if num > max(x[:index])\n",
    "\n",
    "    print 'm =', m\n",
    "    print 'n =', n\n",
    "    \n",
    "    return m, n\n",
    "\n",
    "x = [1, 2, 4, 7, 10, 7, 12, 6, 7, 16, 18, 19]\n",
    "sublist_sort(x)\n",
    "\n",
    "# sublist_sort([1,5,4,12,10, 20])"
   ]
  },
  {
   "cell_type": "markdown",
   "metadata": {},
   "source": [
    "## 17.7 \n",
    "\n",
    "Given any integer, print an English phrase that describes the integer (e.g. One Thousand, Two Hundred Thirty Four)"
   ]
  },
  {
   "cell_type": "code",
   "execution_count": null,
   "metadata": {
    "collapsed": true
   },
   "outputs": [],
   "source": []
  },
  {
   "cell_type": "code",
   "execution_count": null,
   "metadata": {
    "collapsed": true
   },
   "outputs": [],
   "source": []
  },
  {
   "cell_type": "markdown",
   "metadata": {},
   "source": [
    "## 17.8\n",
    "You are given an array of integers (positive and negative). Find the contiguous sequence with the largest sum"
   ]
  },
  {
   "cell_type": "code",
   "execution_count": 143,
   "metadata": {
    "collapsed": false
   },
   "outputs": [
    {
     "name": "stdout",
     "output_type": "stream",
     "text": [
      "[7, 9]\n",
      "[1, 2, 3, -1, 0, 100]\n",
      "[3, -2, 4]\n"
     ]
    }
   ],
   "source": [
    "def biggest_block(string):\n",
    "    \"\"\"\n",
    "    Inchworm through the block, calculating each sum while incrementing end index.\n",
    "    But if the sum is less than 0, it won't help any subsequent blocks, so we\n",
    "    reset by changing position of the start index.\n",
    "    \"\"\"\n",
    "    start = 0\n",
    "    end = 1\n",
    "    biggest_block = [start, end]\n",
    "    biggest_sum = None\n",
    "    n = len(string)\n",
    "    while end < n:\n",
    "        new_sum = sum(string[start:end])\n",
    "        if new_sum > biggest_sum:\n",
    "            biggest_sum = new_sum\n",
    "            biggest_block = [start, end]\n",
    "        if new_sum < 0:\n",
    "            start = end\n",
    "        end += 1\n",
    "    return string[biggest_block[0]:biggest_block[1]]\n",
    "\n",
    "# Test Cases\n",
    "print biggest_block([7, 9, -3, -10, -7, 8, -5, -5, -7, -7, 5, 1, 5, -8, 0, 8, -2, 4, 2, -1])\n",
    "# [7, 9]\n",
    "\n",
    "print biggest_block([-2, 1, 2, 3, -1, 0, 100, -101, 50])\n",
    "# [1, 2, 3, -1, 0, 100]\n",
    "\n",
    "print biggest_block([2, -8, 3, -2, 4, -10])\n",
    "# [3, -2, 4]"
   ]
  },
  {
   "cell_type": "markdown",
   "metadata": {},
   "source": [
    "**This needs to factor in if given numbers are all negative**"
   ]
  },
  {
   "cell_type": "code",
   "execution_count": null,
   "metadata": {
    "collapsed": true
   },
   "outputs": [],
   "source": []
  }
 ],
 "metadata": {
  "kernelspec": {
   "display_name": "Python 2",
   "language": "python",
   "name": "python2"
  },
  "language_info": {
   "codemirror_mode": {
    "name": "ipython",
    "version": 2
   },
   "file_extension": ".py",
   "mimetype": "text/x-python",
   "name": "python",
   "nbconvert_exporter": "python",
   "pygments_lexer": "ipython2",
   "version": "2.7.11"
  }
 },
 "nbformat": 4,
 "nbformat_minor": 0
}
