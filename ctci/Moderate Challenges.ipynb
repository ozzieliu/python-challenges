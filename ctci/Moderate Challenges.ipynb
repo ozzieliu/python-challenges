{
 "cells": [
  {
   "cell_type": "markdown",
   "metadata": {},
   "source": [
    "## 17.1 \n",
    "Write a function to swap a number in place (that is, without temporary variables)."
   ]
  },
  {
   "cell_type": "markdown",
   "metadata": {},
   "source": [
    "Well, unless I'm completely mistaken of what this problem is asking, it's actually pretty trivial in Python to swap numbers:"
   ]
  },
  {
   "cell_type": "code",
   "execution_count": 3,
   "metadata": {
    "collapsed": true
   },
   "outputs": [],
   "source": [
    "def swap(a, b):\n",
    "    b, a = a, b\n",
    "    return a, b\n",
    "\n",
    "print swap(4,10)"
   ]
  },
  {
   "cell_type": "markdown",
   "metadata": {},
   "source": [
    "## 17.2\n",
    "\n",
    "Design an algorithm to check if someone won in tic-tac-toe"
   ]
  },
  {
   "cell_type": "code",
   "execution_count": 7,
   "metadata": {
    "collapsed": false
   },
   "outputs": [
    {
     "name": "stdout",
     "output_type": "stream",
     "text": [
      "['XOX', 'OXO', 'XOO']\n"
     ]
    }
   ],
   "source": [
    "grid = [['X', 'O', 'X'],\n",
    "        ['O', 'X', 'O'],\n",
    "        ['X', 'O', 'O']]\n",
    "\n",
    "def check_win(grid):\n",
    "    ## Across\n",
    "    across = [''.join(row) for row in grid]\n",
    "    print across\n",
    "    \n",
    "check_win(grid)"
   ]
  },
  {
   "cell_type": "code",
   "execution_count": null,
   "metadata": {
    "collapsed": true
   },
   "outputs": [],
   "source": []
  }
 ],
 "metadata": {
  "kernelspec": {
   "display_name": "Python 2",
   "language": "python",
   "name": "python2"
  },
  "language_info": {
   "codemirror_mode": {
    "name": "ipython",
    "version": 2
   },
   "file_extension": ".py",
   "mimetype": "text/x-python",
   "name": "python",
   "nbconvert_exporter": "python",
   "pygments_lexer": "ipython2",
   "version": "2.7.11"
  }
 },
 "nbformat": 4,
 "nbformat_minor": 0
}
